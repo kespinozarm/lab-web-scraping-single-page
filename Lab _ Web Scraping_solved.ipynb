{
 "cells": [
  {
   "cell_type": "code",
   "execution_count": 454,
   "id": "5d0659c8-1509-481a-b2ce-dc7457ebc6c4",
   "metadata": {},
   "outputs": [],
   "source": [
    "import pandas as pd\n",
    "\n",
    "from bs4 import BeautifulSoup\n",
    "import requests"
   ]
  },
  {
   "cell_type": "code",
   "execution_count": 456,
   "id": "e08b4c3c-197e-4daa-a736-a4367159d58d",
   "metadata": {},
   "outputs": [],
   "source": [
    "pd.set_option('display.max_columns', None) # display all columns\n",
    "import warnings\n",
    "warnings.filterwarnings('ignore') # ignore warnings"
   ]
  },
  {
   "cell_type": "code",
   "execution_count": 458,
   "id": "b54ba33b-9332-40ec-90c5-c253683fd94d",
   "metadata": {},
   "outputs": [],
   "source": [
    "link = \"https://www.billboard.com/charts/hot-100/\""
   ]
  },
  {
   "cell_type": "code",
   "execution_count": 460,
   "id": "708d41f4-7914-48c6-a3af-2467814c156f",
   "metadata": {},
   "outputs": [
    {
     "data": {
      "text/plain": [
       "200"
      ]
     },
     "execution_count": 460,
     "metadata": {},
     "output_type": "execute_result"
    }
   ],
   "source": [
    "response = requests.get(link)\n",
    "response.status_code "
   ]
  },
  {
   "cell_type": "code",
   "execution_count": 462,
   "id": "c570ec83-6e28-453c-a7f0-adeb98d89fd6",
   "metadata": {},
   "outputs": [],
   "source": [
    "html = response.text"
   ]
  },
  {
   "cell_type": "code",
   "execution_count": 464,
   "id": "f764eee9-80a7-4d6e-bfff-10729c436df9",
   "metadata": {},
   "outputs": [],
   "source": [
    "soup = BeautifulSoup(html, 'html.parser')"
   ]
  },
  {
   "cell_type": "code",
   "execution_count": 466,
   "id": "989dc039-0ee9-4b8a-a85d-c94e731780ce",
   "metadata": {},
   "outputs": [],
   "source": [
    "#print(soup.prettify())"
   ]
  },
  {
   "cell_type": "code",
   "execution_count": 468,
   "id": "0773ba2e-3b75-45a8-a00c-7e60f2d7bc48",
   "metadata": {},
   "outputs": [],
   "source": [
    "#soup.find_all(\"li\")\n"
   ]
  },
  {
   "cell_type": "code",
   "execution_count": 470,
   "id": "8c8144dd-3a2e-4414-933c-a13985db106d",
   "metadata": {},
   "outputs": [],
   "source": [
    "#soup.find_all(id=\"title-of-a-story\")"
   ]
  },
  {
   "cell_type": "code",
   "execution_count": 472,
   "id": "0499cb9c-eb7f-419e-be2f-9fe8633bcfc4",
   "metadata": {},
   "outputs": [],
   "source": [
    "songs = [song.get_text(strip=True) for song in soup.select(\"li h3.c-title\")]"
   ]
  },
  {
   "cell_type": "code",
   "execution_count": 474,
   "id": "b6fef724-a9d1-4534-8e2b-58d5e06830a9",
   "metadata": {},
   "outputs": [
    {
     "data": {
      "text/plain": [
       "['A Bar Song (Tipsy)',\n",
       " 'I Had Some Help',\n",
       " 'Espresso',\n",
       " 'Good Luck, Babe!',\n",
       " 'Die With A Smile',\n",
       " 'Birds Of A Feather',\n",
       " 'Lose Control',\n",
       " 'Taste',\n",
       " 'Please Please Please',\n",
       " 'Not Like Us',\n",
       " 'Beautiful Things',\n",
       " 'Million Dollar Baby',\n",
       " 'Too Sweet',\n",
       " 'Dancing In The Flames',\n",
       " 'All Red',\n",
       " \"Ain't No Love In Oklahoma\",\n",
       " 'Hot To Go!',\n",
       " 'Miles On It',\n",
       " 'Lies Lies Lies',\n",
       " \"It's Ok I'm Ok\",\n",
       " 'Bed Chem',\n",
       " 'Cowgirls',\n",
       " 'Pink Skies',\n",
       " 'Austin',\n",
       " 'I Am Not Okay',\n",
       " 'I Can Do It With A Broken Heart',\n",
       " 'Kehlani',\n",
       " 'The Door',\n",
       " 'Pink Pony Club',\n",
       " 'Who',\n",
       " 'Saturn',\n",
       " '28',\n",
       " 'TGIF',\n",
       " 'Like That',\n",
       " 'Pour Me A Drink',\n",
       " 'Slow It Down',\n",
       " 'Si Antes Te Hubiera Conocido',\n",
       " 'Stick Season',\n",
       " 'You Look Like You Love Me',\n",
       " 'Stargazing',\n",
       " 'Guy For That',\n",
       " 'The Emptiness Machine',\n",
       " 'Wanna Be',\n",
       " 'Good Graces',\n",
       " 'High Road',\n",
       " 'Sailor Song',\n",
       " 'Big Dawgs',\n",
       " 'Wildflower',\n",
       " '360',\n",
       " 'Mamushi',\n",
       " 'La Patrulla',\n",
       " \"I Love You, I'm Sorry\",\n",
       " 'Houdini',\n",
       " 'Red Wine Supernova',\n",
       " 'Help Me',\n",
       " 'Guess',\n",
       " 'One Of Wun',\n",
       " 'Chevrolet',\n",
       " 'Casual',\n",
       " 'Whiskey Whiskey',\n",
       " 'Passport Junkie',\n",
       " 'Juno',\n",
       " 'Nights Like This',\n",
       " 'Lonely Road',\n",
       " \"Wind Up Missin' You\",\n",
       " 'Circadian Rhythm',\n",
       " 'Si No Quieres No',\n",
       " 'Love You, Miss You, Mean It',\n",
       " \"Think I'm In Love With You\",\n",
       " 'Nel',\n",
       " 'Am I Okay?',\n",
       " 'Apple',\n",
       " 'Coincidence',\n",
       " 'Talk Talk',\n",
       " 'Bad Dreams',\n",
       " 'Sharpest Tool',\n",
       " 'The Boy Is Mine',\n",
       " 'Dos Dias',\n",
       " 'Neva Play',\n",
       " 'Losers',\n",
       " 'Diet Pepsi',\n",
       " 'Shake Dat Ass (Twerk Song)',\n",
       " 'Lunch',\n",
       " 'Belong Together',\n",
       " 'Residuals',\n",
       " 'BAND4BAND',\n",
       " 'Beautiful As You',\n",
       " 'No Face',\n",
       " 'Femininomenon',\n",
       " 'Prove It',\n",
       " 'Fuel',\n",
       " 'Close To You',\n",
       " 'Chihiro',\n",
       " 'Slim Pickins',\n",
       " 'I Never Lie',\n",
       " 'U My Everything',\n",
       " 'My Kink Is Karma',\n",
       " 'Nasty',\n",
       " 'Parking Lot',\n",
       " 'Worst Way']"
      ]
     },
     "execution_count": 474,
     "metadata": {},
     "output_type": "execute_result"
    }
   ],
   "source": [
    "songs"
   ]
  },
  {
   "cell_type": "code",
   "execution_count": 412,
   "id": "a580b823-2f29-474a-baab-ad2176441dd7",
   "metadata": {},
   "outputs": [],
   "source": [
    "artists = []\n",
    "for ul in soup.select(\"span\", {\"class\":\"c-labela-no-trucate a-font-primary-s lrv-u-font-size-14@mobile-max u-line-height-normal@mobile-max u-letter-spacing-0021 lrv-u-display-block a-truncate-ellipsis-2line u-max-width-330 u-max-width-230@tablet-only u-font-size-20@tablet\"}):\n",
    "    artists.append(ul.get_text(strip=True))\n",
    "\n",
    "#prueba"
   ]
  },
  {
   "cell_type": "code",
   "execution_count": 476,
   "id": "c6e6fd87-f5b4-4135-97ca-44be1f2cbdcc",
   "metadata": {},
   "outputs": [
    {
     "data": {
      "text/plain": [
       "['Shaboozey',\n",
       " 'Post Malone Featuring Morgan Wallen',\n",
       " 'Sabrina Carpenter',\n",
       " 'Chappell Roan',\n",
       " 'Lady Gaga & Bruno Mars',\n",
       " 'Billie Eilish',\n",
       " 'Teddy Swims',\n",
       " 'Sabrina Carpenter',\n",
       " 'Sabrina Carpenter',\n",
       " 'Kendrick Lamar',\n",
       " 'Benson Boone',\n",
       " 'Tommy Richman',\n",
       " 'Hozier',\n",
       " 'The Weeknd',\n",
       " 'Playboi Carti',\n",
       " 'Luke Combs',\n",
       " 'Chappell Roan',\n",
       " 'Marshmello & Kane Brown',\n",
       " 'Morgan Wallen',\n",
       " 'Tate McRae',\n",
       " 'Sabrina Carpenter',\n",
       " 'Morgan Wallen Featuring ERNEST',\n",
       " 'Zach Bryan',\n",
       " 'Dasha',\n",
       " 'Jelly Roll',\n",
       " 'Taylor Swift',\n",
       " 'Jordan Adetunji',\n",
       " 'Teddy Swims',\n",
       " 'Chappell Roan',\n",
       " 'Jimin',\n",
       " 'SZA',\n",
       " 'Zach Bryan',\n",
       " 'GloRilla',\n",
       " 'Future, Metro Boomin & Kendrick Lamar',\n",
       " 'Post Malone Featuring Blake Shelton',\n",
       " 'Benson Boone',\n",
       " 'Karol G',\n",
       " 'Noah Kahan',\n",
       " 'Ella Langley Featuring Riley Green',\n",
       " 'Myles Smith',\n",
       " 'Post Malone Featuring Luke Combs',\n",
       " 'Linkin Park',\n",
       " 'GloRilla & Megan Thee Stallion',\n",
       " 'Sabrina Carpenter',\n",
       " 'Koe Wetzel & Jessie Murph',\n",
       " 'Gigi Perez',\n",
       " 'Hanumankind X Kalmi',\n",
       " 'Billie Eilish',\n",
       " 'Charli xcx',\n",
       " 'Megan Thee Stallion Featuring Yuki Chiba',\n",
       " 'Peso Pluma & Neton Vega',\n",
       " 'Gracie Abrams',\n",
       " 'Eminem',\n",
       " 'Chappell Roan',\n",
       " 'Real Boston Richey',\n",
       " 'Charli xcx Featuring Billie Eilish',\n",
       " 'Gunna',\n",
       " 'Dustin Lynch Featuring Jelly Roll',\n",
       " 'Chappell Roan',\n",
       " 'Moneybagg Yo Featuring Morgan Wallen',\n",
       " 'Rod Wave',\n",
       " 'Sabrina Carpenter',\n",
       " 'The Kid LAROI',\n",
       " 'mgk & Jelly Roll',\n",
       " 'Tucker Wetmore',\n",
       " 'Drake',\n",
       " 'Luis R Conriquez x Neton Vega',\n",
       " 'Luke Bryan',\n",
       " 'Chris Stapleton',\n",
       " 'Fuerza Regida',\n",
       " 'Megan Moroney',\n",
       " 'Charli xcx',\n",
       " 'Sabrina Carpenter',\n",
       " 'Charli xcx Featuring Troye Sivan',\n",
       " 'Teddy Swims',\n",
       " 'Sabrina Carpenter',\n",
       " 'Ariana Grande',\n",
       " 'Tito Double P & Peso Pluma',\n",
       " 'Megan Thee Stallion & RM',\n",
       " 'Post Malone Featuring Jelly Roll',\n",
       " 'Addison Rae',\n",
       " 'BossMan DLow',\n",
       " 'Billie Eilish',\n",
       " 'Mark Ambor',\n",
       " 'Chris Brown',\n",
       " 'Central Cee & Lil Baby',\n",
       " 'Thomas Rhett',\n",
       " 'Drake',\n",
       " 'Chappell Roan',\n",
       " '21 Savage & Summer Walker',\n",
       " 'Eminem & JID',\n",
       " 'Gracie Abrams',\n",
       " 'Billie Eilish',\n",
       " 'Sabrina Carpenter',\n",
       " 'Zach Top',\n",
       " 'Sexyy Red & Drake',\n",
       " 'Chappell Roan',\n",
       " 'Tinashe',\n",
       " 'Mustard & Travis Scott',\n",
       " 'Riley Green']"
      ]
     },
     "execution_count": 476,
     "metadata": {},
     "output_type": "execute_result"
    }
   ],
   "source": [
    "artists = []\n",
    "for li in soup.select(\"li span.c-label\"):\n",
    "    artist = li.get_text(strip=True)\n",
    "    if not artist.isdigit() and artist.lower() != \"new\" and \"-\" not in artist:\n",
    "        artists.append(artist)\n",
    "\n",
    "artists"
   ]
  },
  {
   "cell_type": "code",
   "execution_count": 478,
   "id": "b280cac1-d54c-4d3c-9531-392bcfaba149",
   "metadata": {},
   "outputs": [],
   "source": [
    "df = pd.DataFrame({\n",
    "    \"Song\": titles,\n",
    "    \"Artist\": artists\n",
    "})\n"
   ]
  },
  {
   "cell_type": "code",
   "execution_count": 480,
   "id": "7ab12e5a-411c-407a-933f-dcc0494248ae",
   "metadata": {},
   "outputs": [
    {
     "data": {
      "text/html": [
       "<div>\n",
       "<style scoped>\n",
       "    .dataframe tbody tr th:only-of-type {\n",
       "        vertical-align: middle;\n",
       "    }\n",
       "\n",
       "    .dataframe tbody tr th {\n",
       "        vertical-align: top;\n",
       "    }\n",
       "\n",
       "    .dataframe thead th {\n",
       "        text-align: right;\n",
       "    }\n",
       "</style>\n",
       "<table border=\"1\" class=\"dataframe\">\n",
       "  <thead>\n",
       "    <tr style=\"text-align: right;\">\n",
       "      <th></th>\n",
       "      <th>Song</th>\n",
       "      <th>Artist</th>\n",
       "    </tr>\n",
       "  </thead>\n",
       "  <tbody>\n",
       "    <tr>\n",
       "      <th>0</th>\n",
       "      <td>A Bar Song (Tipsy)</td>\n",
       "      <td>Shaboozey</td>\n",
       "    </tr>\n",
       "    <tr>\n",
       "      <th>1</th>\n",
       "      <td>I Had Some Help</td>\n",
       "      <td>Post Malone Featuring Morgan Wallen</td>\n",
       "    </tr>\n",
       "    <tr>\n",
       "      <th>2</th>\n",
       "      <td>Espresso</td>\n",
       "      <td>Sabrina Carpenter</td>\n",
       "    </tr>\n",
       "    <tr>\n",
       "      <th>3</th>\n",
       "      <td>Good Luck, Babe!</td>\n",
       "      <td>Chappell Roan</td>\n",
       "    </tr>\n",
       "    <tr>\n",
       "      <th>4</th>\n",
       "      <td>Die With A Smile</td>\n",
       "      <td>Lady Gaga &amp; Bruno Mars</td>\n",
       "    </tr>\n",
       "    <tr>\n",
       "      <th>...</th>\n",
       "      <td>...</td>\n",
       "      <td>...</td>\n",
       "    </tr>\n",
       "    <tr>\n",
       "      <th>95</th>\n",
       "      <td>U My Everything</td>\n",
       "      <td>Sexyy Red &amp; Drake</td>\n",
       "    </tr>\n",
       "    <tr>\n",
       "      <th>96</th>\n",
       "      <td>My Kink Is Karma</td>\n",
       "      <td>Chappell Roan</td>\n",
       "    </tr>\n",
       "    <tr>\n",
       "      <th>97</th>\n",
       "      <td>Nasty</td>\n",
       "      <td>Tinashe</td>\n",
       "    </tr>\n",
       "    <tr>\n",
       "      <th>98</th>\n",
       "      <td>Parking Lot</td>\n",
       "      <td>Mustard &amp; Travis Scott</td>\n",
       "    </tr>\n",
       "    <tr>\n",
       "      <th>99</th>\n",
       "      <td>Worst Way</td>\n",
       "      <td>Riley Green</td>\n",
       "    </tr>\n",
       "  </tbody>\n",
       "</table>\n",
       "<p>100 rows × 2 columns</p>\n",
       "</div>"
      ],
      "text/plain": [
       "                  Song                               Artist\n",
       "0   A Bar Song (Tipsy)                            Shaboozey\n",
       "1      I Had Some Help  Post Malone Featuring Morgan Wallen\n",
       "2             Espresso                    Sabrina Carpenter\n",
       "3     Good Luck, Babe!                        Chappell Roan\n",
       "4     Die With A Smile               Lady Gaga & Bruno Mars\n",
       "..                 ...                                  ...\n",
       "95     U My Everything                    Sexyy Red & Drake\n",
       "96    My Kink Is Karma                        Chappell Roan\n",
       "97               Nasty                              Tinashe\n",
       "98         Parking Lot               Mustard & Travis Scott\n",
       "99           Worst Way                          Riley Green\n",
       "\n",
       "[100 rows x 2 columns]"
      ]
     },
     "execution_count": 480,
     "metadata": {},
     "output_type": "execute_result"
    }
   ],
   "source": [
    "df"
   ]
  },
  {
   "cell_type": "code",
   "execution_count": null,
   "id": "5a44bb0f-34b7-4028-b0c7-f8990b722891",
   "metadata": {},
   "outputs": [],
   "source": []
  }
 ],
 "metadata": {
  "kernelspec": {
   "display_name": "Python 3 (ipykernel)",
   "language": "python",
   "name": "python3"
  },
  "language_info": {
   "codemirror_mode": {
    "name": "ipython",
    "version": 3
   },
   "file_extension": ".py",
   "mimetype": "text/x-python",
   "name": "python",
   "nbconvert_exporter": "python",
   "pygments_lexer": "ipython3",
   "version": "3.11.7"
  }
 },
 "nbformat": 4,
 "nbformat_minor": 5
}
